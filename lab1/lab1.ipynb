{
 "cells": [
  {
   "cell_type": "code",
   "execution_count": 63,
   "metadata": {},
   "outputs": [],
   "source": [
    "def factorial(num):\n",
    "    if(num == 1):\n",
    "        return 1;\n",
    "    return num*factorial(num-1);"
   ]
  },
  {
   "cell_type": "code",
   "execution_count": 64,
   "metadata": {},
   "outputs": [
    {
     "name": "stdout",
     "output_type": "stream",
     "text": [
      "120\n"
     ]
    }
   ],
   "source": [
    "print(factorial(5))"
   ]
  },
  {
   "cell_type": "code",
   "execution_count": 1,
   "metadata": {},
   "outputs": [],
   "source": [
    "import matplotlib\n",
    "import matplotlib.pyplot as plt\n",
    "import pandas as pd\n",
    "pd.set_option('display.max_rows', 100)\n",
    "import numpy as np\n",
    "np.set_printoptions(threshold=np.inf)\n",
    "import math"
   ]
  },
  {
   "cell_type": "code",
   "execution_count": 2,
   "metadata": {},
   "outputs": [],
   "source": [
    "C = np.random.rand(100,100)*100\n",
    "P = np.zeros( (100, 100) )"
   ]
  },
  {
   "cell_type": "code",
   "execution_count": 3,
   "metadata": {},
   "outputs": [
    {
     "data": {
      "text/plain": [
       "<matplotlib.image.AxesImage at 0x1c5db70c248>"
      ]
     },
     "execution_count": 3,
     "metadata": {},
     "output_type": "execute_result"
    },
    {
     "data": {
      "image/png": "[encoded data removed]",
      "text/plain": [
       "<Figure size 432x288 with 1 Axes>"
      ]
     },
     "metadata": {
      "needs_background": "light"
     },
     "output_type": "display_data"
    }
   ],
   "source": [
    "centers = np.random.randint(100, size=(5, 2) )\n",
    "for k in range(5):\n",
    "    for i in range(100):\n",
    "        for j in range(100):\n",
    "            x = centers[k, 0]\n",
    "            y = centers[k, 1]\n",
    "            if(i == x and j == y):\n",
    "                P[i, j] = 100\n",
    "                continue\n",
    "            power = 100/((i-x)**2 + (j-y)**2 )\n",
    "            if(power > P[i, j]):\n",
    "                P[i, j] = power\n",
    "\n",
    "centers = np.random.randint(100, size=(3, 2) )\n",
    "for k in range(3):\n",
    "    for i in range(100):\n",
    "        for j in range(100):\n",
    "            x = centers[k, 0]\n",
    "            y = centers[k, 1]\n",
    "            if(i == x and j == y):\n",
    "                P[i, j] = 300\n",
    "                continue\n",
    "            power = 300/((i-x)**2 + (j-y)**2 )\n",
    "            if(power > P[i, j]):\n",
    "                P[i, j] = power\n",
    "\n",
    "centers = np.random.randint(100, size=(2, 2) )\n",
    "for k in range(2):\n",
    "    for i in range(100):\n",
    "        for j in range(100):\n",
    "            x = centers[k, 0]\n",
    "            y = centers[k, 1]\n",
    "            if(i == x and j == y):\n",
    "                P[i, j] = 300\n",
    "                continue\n",
    "            power = 500/((i-x)**2 + (j-y)**2 )\n",
    "            if(power > P[i, j]):\n",
    "                P[i, j] = power\n",
    "\n",
    "norm = plt.Normalize(0, 1, clip=True)\n",
    "plt.imshow(P, interpolation=\"none\",  cmap=\"inferno\", norm=norm)"
   ]
  },
  {
   "cell_type": "code",
   "execution_count": 4,
   "metadata": {},
   "outputs": [
    {
     "name": "stdout",
     "output_type": "stream",
     "text": [
      "207738\n"
     ]
    }
   ],
   "source": [
    "counter = 0\n",
    "for x in range(100):\n",
    "    for y in range(100):\n",
    "        if(P[x, y] >= 1):\n",
    "            counter += math.floor(C[x, y])\n",
    "print(counter)"
   ]
  },
  {
   "cell_type": "code",
   "execution_count": 4,
   "metadata": {},
   "outputs": [],
   "source": [
    "M = np.zeros((15, 15))\n",
    "M[2, 1] = 1 # point (3, 2)\n",
    "M[2, 12] = 1\n",
    "M[4, 12] = 1\n",
    "M[4, 14] = 1\n",
    "M[9, 14] = 1\n",
    "M[9, 1] = 1"
   ]
  },
  {
   "cell_type": "code",
   "execution_count": 5,
   "metadata": {},
   "outputs": [],
   "source": [
    "def find_start(matrix):\n",
    "    for i in range(15):\n",
    "        for j in range(15):\n",
    "            if( matrix[i, j] != 0):\n",
    "                return (i, j)"
   ]
  },
  {
   "cell_type": "code",
   "execution_count": 60,
   "metadata": {},
   "outputs": [],
   "source": [
    "def check_top(matrix, x, y):\n",
    "    for i in range(y-1, -1, -1):\n",
    "        if(matrix[x, i] != 0):\n",
    "            return (x, i);\n",
    "    return (-1, -1)\n",
    "def check_bottom(matrix, x, y):\n",
    "    for i in range(y+1, 15):\n",
    "        if(matrix[x, i] != 0):\n",
    "            return (x, i);\n",
    "    return (-1, -1)\n",
    "def check_left(matrix, x, y):\n",
    "    for i in range(x-1, -1, -1):\n",
    "        if(matrix[i, y] != 0):\n",
    "            return (i, y);\n",
    "    return (-1, -1)\n",
    "def check_right(matrix, x, y):\n",
    "    for i in range(x+1, 15):\n",
    "        if(matrix[i, y] != 0):\n",
    "            return (i, y);\n",
    "    return (-1, -1)\n",
    "\n",
    "def find_direction_top(matrix, current_node):\n",
    "    direction = 't'\n",
    "    potential_node = check_right(matrix, *current_node)\n",
    "    if(potential_node == (-1, -1)):\n",
    "        potential_node = check_top(matrix, *current_node)\n",
    "        if(potential_node == (-1, -1)):\n",
    "            potential_node = check_left(matrix, *current_node)\n",
    "            return( ('l', potential_node) )\n",
    "        else: \n",
    "            return( ('t', potential_node) )\n",
    "    else:\n",
    "        return( ('r', potential_node) )\n",
    "\n",
    "def find_direction_right(matrix, current_node):\n",
    "    direction = 'r'\n",
    "    potential_node = check_bottom(matrix, *current_node)\n",
    "    if(potential_node == (-1, -1)):\n",
    "        potential_node = check_right(matrix, *current_node)\n",
    "        if(potential_node == (-1, -1)):\n",
    "            potential_node = check_top(matrix, *current_node)\n",
    "            return( ('t', potential_node) )\n",
    "        else: \n",
    "            return( ('r', potential_node) )\n",
    "    else:\n",
    "        return( ('b', potential_node) )\n",
    "    \n",
    "def find_direction_bottom(matrix, current_node):\n",
    "    direction = 'b'\n",
    "    potential_node = check_left(matrix, *current_node)\n",
    "    if(potential_node == (-1, -1)):\n",
    "        potential_node = check_bottom(matrix, *current_node)\n",
    "        if(potential_node == (-1, -1)):\n",
    "            potential_node = check_right(matrix, *current_node)\n",
    "            return( ('r', potential_node) )\n",
    "        else: \n",
    "            return( ('b', potential_node) )\n",
    "    else:\n",
    "        return( ('l', potential_node) )\n",
    "    \n",
    "def find_direction_left(matrix, current_node):\n",
    "    direction = 'l'\n",
    "    potential_node = check_top(matrix, *current_node)\n",
    "    if(potential_node == (-1, -1)):\n",
    "        potential_node = check_left(matrix, *current_node)\n",
    "        if(potential_node == (-1, -1)):\n",
    "            potential_node = check_bottom(matrix, *current_node)\n",
    "            return( ('b', potential_node) )\n",
    "        else: \n",
    "            return( ('l', potential_node) )\n",
    "    else:\n",
    "        return( ('t', potential_node) )\n",
    "        \n",
    "def find_all_nodes(matrix):\n",
    "    starting_node = find_start(matrix)\n",
    "    current_node = starting_node\n",
    "    direction = 'b'\n",
    "    node_list = []\n",
    "    \n",
    "    (direction, current_node) = find_direction_bottom(matrix, current_node)\n",
    "    node_list.append(current_node)\n",
    "    while(current_node != starting_node):\n",
    "        if(direction == 'b'):\n",
    "            (direction, current_node) = find_direction_bottom(matrix, current_node)\n",
    "        elif(direction == 'l'):\n",
    "            (direction, current_node) = find_direction_left(matrix, current_node)\n",
    "        elif(direction == 't'):\n",
    "            (direction, current_node) = find_direction_top(matrix, current_node)\n",
    "        elif(direction == 'r'):\n",
    "            (direction, current_node) = find_direction_right(matrix, current_node)\n",
    "        node_list.append(current_node)\n",
    "        \n",
    "    result = \"Старт: \"\n",
    "    for i in range(-1, len(node_list)):\n",
    "        result += '('\n",
    "        result += str(node_list[i][0] + 1)\n",
    "        result += ', '\n",
    "        result += str(node_list[i][1] + 1)\n",
    "        result += ') -> '\n",
    "    result = result[:-3] + ' Конец'\n",
    "    print(result)"
   ]
  },
  {
   "cell_type": "code",
   "execution_count": 61,
   "metadata": {},
   "outputs": [
    {
     "name": "stdout",
     "output_type": "stream",
     "text": [
      "Старт: (3, 2) -> (3, 13) -> (5, 13) -> (5, 15) -> (10, 15) -> (10, 2) -> (3, 2)  Конец\n"
     ]
    }
   ],
   "source": [
    "find_all_nodes(M)"
   ]
  }
 ],
 "metadata": {
  "kernelspec": {
   "display_name": "Python 3",
   "language": "python",
   "name": "python3"
  },
  "language_info": {
   "codemirror_mode": {
    "name": "ipython",
    "version": 3
   },
   "file_extension": ".py",
   "mimetype": "text/x-python",
   "name": "python",
   "nbconvert_exporter": "python",
   "pygments_lexer": "ipython3",
   "version": "3.7.6"
  }
 },
 "nbformat": 4,
 "nbformat_minor": 4
}
